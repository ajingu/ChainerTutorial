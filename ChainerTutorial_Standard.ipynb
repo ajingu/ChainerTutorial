{
 "cells": [
  {
   "cell_type": "code",
   "execution_count": 31,
   "metadata": {},
   "outputs": [],
   "source": [
    "%config IPCompleter.greedy=True"
   ]
  },
  {
   "cell_type": "code",
   "execution_count": 32,
   "metadata": {},
   "outputs": [],
   "source": [
    "import warnings\n",
    "warnings.filterwarnings('ignore')"
   ]
  },
  {
   "cell_type": "code",
   "execution_count": 33,
   "metadata": {},
   "outputs": [],
   "source": [
    "import chainer"
   ]
  },
  {
   "cell_type": "code",
   "execution_count": 34,
   "metadata": {},
   "outputs": [
    {
     "name": "stdout",
     "output_type": "stream",
     "text": [
      "Platform: Windows-10-10.0.17134-SP0\n",
      "Chainer: 5.4.0\n",
      "NumPy: 1.16.2\n",
      "CuPy:\n",
      "  CuPy Version          : 5.4.0\n",
      "  CUDA Root             : C:\\Program Files\\NVIDIA GPU Computing Toolkit\\CUDA\\v10.0\n",
      "  CUDA Build Version    : 10000\n",
      "  CUDA Driver Version   : 10010\n",
      "  CUDA Runtime Version  : 10000\n",
      "  cuDNN Build Version   : 7500\n",
      "  cuDNN Version         : 7500\n",
      "  NCCL Build Version    : None\n",
      "  NCCL Runtime Version  : None\n",
      "iDeep: Not Available\n"
     ]
    }
   ],
   "source": [
    "chainer.print_runtime_info()"
   ]
  },
  {
   "cell_type": "code",
   "execution_count": 35,
   "metadata": {},
   "outputs": [
    {
     "name": "stdout",
     "output_type": "stream",
     "text": [
      "x: (150, 4)\n",
      "t: (150,)\n"
     ]
    }
   ],
   "source": [
    "from sklearn.datasets import load_iris\n",
    "\n",
    "x, t = load_iris(return_X_y=True)\n",
    "\n",
    "print('x:', x.shape)\n",
    "print('t:', t.shape)"
   ]
  },
  {
   "cell_type": "code",
   "execution_count": 36,
   "metadata": {},
   "outputs": [],
   "source": [
    "x = x.astype('float32')\n",
    "t = t.astype('int32')"
   ]
  },
  {
   "cell_type": "code",
   "execution_count": 37,
   "metadata": {},
   "outputs": [],
   "source": [
    "from sklearn.model_selection import train_test_split\n",
    "\n",
    "x_train_val, x_test, t_train_val, t_test = train_test_split(x, t, test_size=0.3, random_state=0)"
   ]
  },
  {
   "cell_type": "code",
   "execution_count": 38,
   "metadata": {},
   "outputs": [],
   "source": [
    "x_train, x_val, t_train, t_val = train_test_split(x_train_val, t_train_val, test_size=0.3, random_state=0)"
   ]
  },
  {
   "cell_type": "code",
   "execution_count": 39,
   "metadata": {},
   "outputs": [],
   "source": [
    "import chainer.links as L\n",
    "import chainer.functions as F"
   ]
  },
  {
   "cell_type": "code",
   "execution_count": 40,
   "metadata": {},
   "outputs": [],
   "source": [
    "from chainer import Sequential\n",
    "\n",
    "n_input, n_hidden, n_output = 4, 6, 3\n",
    "\n",
    "net = Sequential(\n",
    "    L.Linear(n_input, n_hidden), F.relu,\n",
    "    L.Linear(n_hidden, n_hidden), F.relu,\n",
    "    L.Linear(n_hidden, n_output)\n",
    ")"
   ]
  },
  {
   "cell_type": "code",
   "execution_count": 41,
   "metadata": {},
   "outputs": [],
   "source": [
    "optimizer = chainer.optimizers.SGD(lr=0.05)"
   ]
  },
  {
   "cell_type": "code",
   "execution_count": 42,
   "metadata": {},
   "outputs": [
    {
     "data": {
      "text/plain": [
       "<chainer.optimizers.sgd.SGD at 0x219b5417320>"
      ]
     },
     "execution_count": 42,
     "metadata": {},
     "output_type": "execute_result"
    }
   ],
   "source": [
    "optimizer.setup(net)"
   ]
  },
  {
   "cell_type": "code",
   "execution_count": 43,
   "metadata": {},
   "outputs": [],
   "source": [
    "n_epoch = 30\n",
    "n_batchsize = 16"
   ]
  },
  {
   "cell_type": "code",
   "execution_count": 44,
   "metadata": {},
   "outputs": [],
   "source": [
    "import numpy as np"
   ]
  },
  {
   "cell_type": "code",
   "execution_count": 45,
   "metadata": {},
   "outputs": [
    {
     "name": "stdout",
     "output_type": "stream",
     "text": [
      "epoch: 0, iteration: 5, loss (train): 1.3144, loss (valid): 1.1588\n",
      "epoch: 1, iteration: 10, loss (train): 1.1133, loss (valid): 1.1418\n",
      "epoch: 2, iteration: 15, loss (train): 1.0548, loss (valid): 1.1760\n",
      "epoch: 3, iteration: 20, loss (train): 1.0596, loss (valid): 1.1484\n",
      "epoch: 4, iteration: 25, loss (train): 1.0471, loss (valid): 1.1224\n",
      "epoch: 5, iteration: 30, loss (train): 1.0536, loss (valid): 1.1257\n",
      "epoch: 6, iteration: 35, loss (train): 1.0259, loss (valid): 1.1428\n",
      "epoch: 7, iteration: 40, loss (train): 1.0658, loss (valid): 1.1111\n",
      "epoch: 8, iteration: 45, loss (train): 1.0354, loss (valid): 1.1634\n",
      "epoch: 9, iteration: 50, loss (train): 1.0452, loss (valid): 1.1575\n",
      "epoch: 10, iteration: 55, loss (train): 1.0339, loss (valid): 1.0875\n",
      "epoch: 11, iteration: 60, loss (train): 1.0071, loss (valid): 1.1782\n",
      "epoch: 12, iteration: 65, loss (train): 1.0043, loss (valid): 1.1122\n",
      "epoch: 13, iteration: 70, loss (train): 0.9844, loss (valid): 1.1316\n",
      "epoch: 14, iteration: 75, loss (train): 1.0198, loss (valid): 1.0956\n",
      "epoch: 15, iteration: 80, loss (train): 0.9806, loss (valid): 1.1371\n",
      "epoch: 16, iteration: 85, loss (train): 0.9579, loss (valid): 1.0437\n",
      "epoch: 17, iteration: 90, loss (train): 0.9602, loss (valid): 0.9776\n",
      "epoch: 18, iteration: 95, loss (train): 0.9148, loss (valid): 0.9372\n",
      "epoch: 19, iteration: 100, loss (train): 0.8946, loss (valid): 0.9012\n",
      "epoch: 20, iteration: 105, loss (train): 0.8839, loss (valid): 0.8626\n",
      "epoch: 21, iteration: 110, loss (train): 0.8481, loss (valid): 0.9974\n",
      "epoch: 22, iteration: 115, loss (train): 0.8236, loss (valid): 0.9770\n",
      "epoch: 23, iteration: 120, loss (train): 0.8046, loss (valid): 0.8689\n",
      "epoch: 24, iteration: 125, loss (train): 0.6986, loss (valid): 0.6592\n",
      "epoch: 25, iteration: 130, loss (train): 0.6304, loss (valid): 0.5788\n",
      "epoch: 26, iteration: 135, loss (train): 0.6443, loss (valid): 0.5521\n",
      "epoch: 27, iteration: 140, loss (train): 0.5217, loss (valid): 0.4706\n",
      "epoch: 28, iteration: 145, loss (train): 0.4927, loss (valid): 0.4559\n",
      "epoch: 29, iteration: 150, loss (train): 0.5429, loss (valid): 0.4906\n"
     ]
    }
   ],
   "source": [
    "iteration = 0\n",
    "\n",
    "results_train = {\n",
    "    'loss': [],\n",
    "    'accuracy': []\n",
    "}\n",
    "\n",
    "results_valid = {\n",
    "    'loss': [],\n",
    "    'accuracy': []\n",
    "}\n",
    "\n",
    "\n",
    "for epoch in range(n_epoch):\n",
    "    order = np.random.permutation(range(len(x_train)))\n",
    "    \n",
    "    loss_list = []\n",
    "    accuracy_list = []\n",
    "    \n",
    "    for i in range(0, len(order), n_batchsize):\n",
    "        index = order[i:i+n_batchsize]\n",
    "        x_train_batch = x_train[index, :]\n",
    "        t_train_batch = t_train[index]\n",
    "        \n",
    "        y_train_batch = net(x_train_batch)\n",
    "        \n",
    "        loss_train_batch = F.softmax_cross_entropy(y_train_batch, t_train_batch)\n",
    "        accuracy_train_batch = F.accuracy(y_train_batch, t_train_batch)\n",
    "        \n",
    "        loss_list.append(loss_train_batch.array)\n",
    "        accuracy_list.append(accuracy_train_batch.array)\n",
    "        \n",
    "        net.cleargrads()\n",
    "        loss_train_batch.backward()\n",
    "        \n",
    "        optimizer.update()\n",
    "        \n",
    "        iteration += 1\n",
    "    \n",
    "    loss_train = np.mean(loss_list)\n",
    "    accuracy_train = np.mean(accuracy_list)\n",
    "    \n",
    "    with chainer.using_config('train', False), chainer.using_config('enable_backdrop', False):\n",
    "        y_val = net(x_val)\n",
    "    \n",
    "    loss_val = F.softmax_cross_entropy(y_val, t_val)\n",
    "    accuracy_val = F.accuracy(y_val, t_val)\n",
    "    \n",
    "    print('epoch: {}, iteration: {}, loss (train): {:.4f}, loss (valid): {:.4f}'.format(\n",
    "        epoch, iteration, loss_train, loss_val.array))\n",
    "    \n",
    "    results_train['loss'].append(loss_train)\n",
    "    results_train['accuracy'].append(accuracy_train)\n",
    "    results_valid['loss'].append(loss_val.array)\n",
    "    results_valid['accuracy'].append(accuracy_val.array)"
   ]
  },
  {
   "cell_type": "code",
   "execution_count": 47,
   "metadata": {},
   "outputs": [],
   "source": [
    "%matplotlib inline\n",
    "import matplotlib.pyplot as plt"
   ]
  },
  {
   "cell_type": "code",
   "execution_count": 48,
   "metadata": {},
   "outputs": [
    {
     "data": {
      "text/plain": [
       "<matplotlib.legend.Legend at 0x219b7c20278>"
      ]
     },
     "execution_count": 48,
     "metadata": {},
     "output_type": "execute_result"
    },
    {
     "data": {
      "image/png": "[encoded data removed]",
      "text/plain": [
       "<Figure size 432x288 with 1 Axes>"
      ]
     },
     "metadata": {},
     "output_type": "display_data"
    }
   ],
   "source": [
    "plt.plot(results_train['loss'], label='train')\n",
    "plt.plot(results_valid['loss'], label='valid')\n",
    "plt.legend()"
   ]
  },
  {
   "cell_type": "code",
   "execution_count": 49,
   "metadata": {},
   "outputs": [
    {
     "data": {
      "text/plain": [
       "<matplotlib.legend.Legend at 0x219b7cc52e8>"
      ]
     },
     "execution_count": 49,
     "metadata": {},
     "output_type": "execute_result"
    },
    {
     "data": {
      "image/png": "[encoded data removed]",
      "text/plain": [
       "<Figure size 432x288 with 1 Axes>"
      ]
     },
     "metadata": {},
     "output_type": "display_data"
    }
   ],
   "source": [
    "plt.plot(results_train['accuracy'], label='train')\n",
    "plt.plot(results_valid['accuracy'], label='valid')\n",
    "plt.legend()"
   ]
  },
  {
   "cell_type": "code",
   "execution_count": 50,
   "metadata": {},
   "outputs": [],
   "source": [
    "with chainer.using_config('train', False), chainer.using_config('enable_backdrop', False):\n",
    "    y_test = net(x_test)"
   ]
  },
  {
   "cell_type": "code",
   "execution_count": 52,
   "metadata": {},
   "outputs": [
    {
     "data": {
      "text/plain": [
       "array(0.64444447, dtype=float32)"
      ]
     },
     "execution_count": 52,
     "metadata": {},
     "output_type": "execute_result"
    }
   ],
   "source": [
    "accuracy_test = F.accuracy(y_test, t_test)\n",
    "accuracy_test.array"
   ]
  },
  {
   "cell_type": "code",
   "execution_count": 53,
   "metadata": {},
   "outputs": [],
   "source": [
    "chainer.serializers.save_npz('my_iris.net', net)"
   ]
  },
  {
   "cell_type": "code",
   "execution_count": 54,
   "metadata": {},
   "outputs": [
    {
     "name": "stdout",
     "output_type": "stream",
     "text": [
      "ChainerTutorial.ipynb\n",
      "my_iris.net\n"
     ]
    }
   ],
   "source": [
    "!ls"
   ]
  },
  {
   "cell_type": "code",
   "execution_count": 55,
   "metadata": {},
   "outputs": [],
   "source": [
    "loaded_net = Sequential(\n",
    "    L.Linear(n_input, n_hidden), F.relu,\n",
    "    L.Linear(n_hidden, n_hidden), F.relu,\n",
    "    L.Linear(n_hidden, n_output)\n",
    ")"
   ]
  },
  {
   "cell_type": "code",
   "execution_count": 56,
   "metadata": {},
   "outputs": [],
   "source": [
    "chainer.serializers.load_npz('my_iris.net', loaded_net)"
   ]
  },
  {
   "cell_type": "code",
   "execution_count": 57,
   "metadata": {},
   "outputs": [],
   "source": [
    "with chainer.using_config('train', False), chainer.using_config('enable_backprop', False):\n",
    "    y_test = loaded_net(x_test)"
   ]
  },
  {
   "cell_type": "code",
   "execution_count": 61,
   "metadata": {},
   "outputs": [
    {
     "data": {
      "text/plain": [
       "2"
      ]
     },
     "execution_count": 61,
     "metadata": {},
     "output_type": "execute_result"
    }
   ],
   "source": [
    "np.argmax(y_test[0, :].array)"
   ]
  }
 ],
 "metadata": {
  "kernelspec": {
   "display_name": "Python 3",
   "language": "python",
   "name": "python3"
  },
  "language_info": {
   "codemirror_mode": {
    "name": "ipython",
    "version": 3
   },
   "file_extension": ".py",
   "mimetype": "text/x-python",
   "name": "python",
   "nbconvert_exporter": "python",
   "pygments_lexer": "ipython3",
   "version": "3.6.5"
  }
 },
 "nbformat": 4,
 "nbformat_minor": 2
}
