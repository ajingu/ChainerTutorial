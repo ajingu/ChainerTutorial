{
 "cells": [
  {
   "cell_type": "code",
   "execution_count": 1,
   "metadata": {},
   "outputs": [],
   "source": [
    "from sklearn.datasets import load_iris\n",
    "\n",
    "x, t = load_iris(return_X_y=True)\n",
    "x = x.astype('float32')\n",
    "t = t.astype('int32')"
   ]
  },
  {
   "cell_type": "code",
   "execution_count": 2,
   "metadata": {},
   "outputs": [
    {
     "name": "stderr",
     "output_type": "stream",
     "text": [
      "c:\\users\\arata\\appdata\\local\\programs\\python\\python36\\lib\\site-packages\\h5py\\__init__.py:36: FutureWarning: Conversion of the second argument of issubdtype from `float` to `np.floating` is deprecated. In future, it will be treated as `np.float64 == np.dtype(float).type`.\n",
      "  from ._conv import register_converters as _register_converters\n"
     ]
    }
   ],
   "source": [
    "from chainer.datasets import TupleDataset\n",
    "\n",
    "dataset = TupleDataset(x, t)"
   ]
  },
  {
   "cell_type": "code",
   "execution_count": 3,
   "metadata": {},
   "outputs": [],
   "source": [
    "from chainer.datasets import split_dataset_random\n",
    "\n",
    "train_val, test = split_dataset_random(dataset, int(len(dataset) * 0.7), seed=0)\n",
    "train, valid = split_dataset_random(train_val, int(len(train_val) * 0.7), seed=0)"
   ]
  },
  {
   "cell_type": "code",
   "execution_count": 4,
   "metadata": {},
   "outputs": [
    {
     "data": {
      "text/plain": [
       "[(array([5.5, 2.6, 4.4, 1.2], dtype=float32), 1),\n",
       " (array([5.9, 3. , 4.2, 1.5], dtype=float32), 1),\n",
       " (array([6.4, 2.8, 5.6, 2.1], dtype=float32), 2),\n",
       " (array([6. , 2.2, 5. , 1.5], dtype=float32), 2)]"
      ]
     },
     "execution_count": 4,
     "metadata": {},
     "output_type": "execute_result"
    }
   ],
   "source": [
    "from chainer.iterators import SerialIterator\n",
    "\n",
    "train_iter = SerialIterator(train, batch_size=4, repeat=True, shuffle=True)\n",
    "\n",
    "minibatch = train_iter.next()\n",
    "\n",
    "minibatch"
   ]
  },
  {
   "cell_type": "code",
   "execution_count": 5,
   "metadata": {},
   "outputs": [],
   "source": [
    "import chainer\n",
    "import chainer.links as L\n",
    "import chainer.functions as F\n",
    "\n",
    "\n",
    "class Net(chainer.Chain):\n",
    "    \n",
    "    def __init__(self, n_in=4, n_hidden=3, n_out=3):\n",
    "        super().__init__()\n",
    "        with self.init_scope():\n",
    "            self.l1 = L.Linear(n_in, n_hidden)\n",
    "            self.l2 = L.Linear(n_hidden, n_hidden)\n",
    "            self.l3 = L.Linear(n_hidden, n_out)\n",
    "\n",
    "    def forward(self, x):\n",
    "        h = F.relu(self.l1(x))\n",
    "        h = F.relu(self.l2(h))\n",
    "        h = self.l3(h)\n",
    "        \n",
    "        return h\n",
    "\n",
    "net = Net()"
   ]
  },
  {
   "cell_type": "code",
   "execution_count": 6,
   "metadata": {},
   "outputs": [],
   "source": [
    "from chainer import optimizers\n",
    "from chainer.optimizer_hooks import WeightDecay\n",
    "\n",
    "optimizer = optimizers.MomentumSGD(lr=0.001, momentum=0.9)\n",
    "optimizer.setup(net)\n",
    "\n",
    "for param in net.params():\n",
    "    if param.name != 'b':\n",
    "        param.update_rule.add_hook(WeightDecay(0.0001))"
   ]
  },
  {
   "cell_type": "code",
   "execution_count": 7,
   "metadata": {},
   "outputs": [
    {
     "name": "stdout",
     "output_type": "stream",
     "text": [
      "epoch: 0, iteration: 20, loss (train): 0.9662, loss (valid): 0.9750,acc (train): 1.0000, acc (valid): 0.7188\n",
      "epoch: 1, iteration: 38, loss (train): 0.8673, loss (valid): 0.8489,acc (train): 0.7500, acc (valid): 0.6562\n",
      "epoch: 2, iteration: 56, loss (train): 0.6825, loss (valid): 0.8428,acc (train): 0.7500, acc (valid): 0.6562\n",
      "epoch: 3, iteration: 74, loss (train): 0.8350, loss (valid): 0.7925,acc (train): 0.2500, acc (valid): 0.6562\n",
      "epoch: 4, iteration: 93, loss (train): 0.5933, loss (valid): 0.7403,acc (train): 1.0000, acc (valid): 0.6562\n",
      "epoch: 5, iteration: 111, loss (train): 0.8400, loss (valid): 0.7079,acc (train): 0.5000, acc (valid): 0.6562\n",
      "epoch: 6, iteration: 129, loss (train): 0.6160, loss (valid): 0.6728,acc (train): 0.7500, acc (valid): 0.6562\n",
      "epoch: 7, iteration: 147, loss (train): 0.5203, loss (valid): 0.6468,acc (train): 0.7500, acc (valid): 0.6562\n",
      "epoch: 8, iteration: 166, loss (train): 0.9268, loss (valid): 0.6137,acc (train): 0.0000, acc (valid): 0.6562\n",
      "epoch: 9, iteration: 184, loss (train): 0.7157, loss (valid): 0.5891,acc (train): 0.5000, acc (valid): 0.6562\n",
      "epoch: 10, iteration: 202, loss (train): 0.3501, loss (valid): 0.5657,acc (train): 1.0000, acc (valid): 0.6562\n",
      "epoch: 11, iteration: 220, loss (train): 0.4928, loss (valid): 0.5474,acc (train): 0.7500, acc (valid): 0.6562\n",
      "epoch: 12, iteration: 239, loss (train): 0.6194, loss (valid): 0.5254,acc (train): 0.5000, acc (valid): 0.6562\n",
      "epoch: 13, iteration: 257, loss (train): 0.2721, loss (valid): 0.5061,acc (train): 1.0000, acc (valid): 0.6562\n",
      "epoch: 14, iteration: 275, loss (train): 0.4398, loss (valid): 0.4936,acc (train): 0.7500, acc (valid): 0.6562\n",
      "epoch: 15, iteration: 293, loss (train): 0.2686, loss (valid): 0.4776,acc (train): 1.0000, acc (valid): 0.6562\n",
      "epoch: 16, iteration: 312, loss (train): 0.6241, loss (valid): 0.4686,acc (train): 0.5000, acc (valid): 0.6562\n",
      "epoch: 17, iteration: 330, loss (train): 0.6284, loss (valid): 0.4549,acc (train): 0.7500, acc (valid): 0.6562\n",
      "epoch: 18, iteration: 348, loss (train): 0.3394, loss (valid): 0.4454,acc (train): 1.0000, acc (valid): 0.6562\n",
      "epoch: 19, iteration: 366, loss (train): 0.5014, loss (valid): 0.4402,acc (train): 0.5000, acc (valid): 0.6562\n",
      "epoch: 20, iteration: 385, loss (train): 0.2700, loss (valid): 0.4322,acc (train): 0.7500, acc (valid): 0.6562\n",
      "epoch: 21, iteration: 403, loss (train): 0.6595, loss (valid): 0.4257,acc (train): 0.5000, acc (valid): 0.6562\n",
      "epoch: 22, iteration: 421, loss (train): 0.2176, loss (valid): 0.4203,acc (train): 1.0000, acc (valid): 0.6562\n",
      "epoch: 23, iteration: 439, loss (train): 0.3635, loss (valid): 0.4113,acc (train): 0.7500, acc (valid): 0.6875\n",
      "epoch: 24, iteration: 458, loss (train): 0.3988, loss (valid): 0.4066,acc (train): 0.7500, acc (valid): 0.7188\n",
      "epoch: 25, iteration: 476, loss (train): 0.3384, loss (valid): 0.3992,acc (train): 0.7500, acc (valid): 0.7188\n",
      "epoch: 26, iteration: 494, loss (train): 0.4532, loss (valid): 0.3959,acc (train): 0.7500, acc (valid): 0.7500\n",
      "epoch: 27, iteration: 512, loss (train): 0.3160, loss (valid): 0.3923,acc (train): 0.7500, acc (valid): 0.7812\n",
      "epoch: 28, iteration: 531, loss (train): 0.3850, loss (valid): 0.3877,acc (train): 0.7500, acc (valid): 0.7500\n",
      "epoch: 29, iteration: 549, loss (train): 0.5994, loss (valid): 0.3869,acc (train): 0.2500, acc (valid): 0.8125\n",
      "epoch: 30, iteration: 567, loss (train): 0.2932, loss (valid): 0.3807,acc (train): 0.7500, acc (valid): 0.8125\n",
      "epoch: 31, iteration: 585, loss (train): 0.3301, loss (valid): 0.3741,acc (train): 1.0000, acc (valid): 0.8125\n",
      "epoch: 32, iteration: 604, loss (train): 0.3363, loss (valid): 0.3713,acc (train): 1.0000, acc (valid): 0.8438\n",
      "epoch: 33, iteration: 622, loss (train): 0.4274, loss (valid): 0.3728,acc (train): 0.5000, acc (valid): 0.8125\n",
      "epoch: 34, iteration: 640, loss (train): 0.6093, loss (valid): 0.3713,acc (train): 0.7500, acc (valid): 0.8125\n",
      "epoch: 35, iteration: 658, loss (train): 0.3040, loss (valid): 0.3620,acc (train): 0.7500, acc (valid): 0.8125\n",
      "epoch: 36, iteration: 677, loss (train): 0.3326, loss (valid): 0.3580,acc (train): 0.7500, acc (valid): 0.8125\n",
      "epoch: 37, iteration: 695, loss (train): 0.2768, loss (valid): 0.3545,acc (train): 1.0000, acc (valid): 0.8125\n",
      "epoch: 38, iteration: 713, loss (train): 0.6607, loss (valid): 0.3520,acc (train): 0.5000, acc (valid): 0.8125\n",
      "epoch: 39, iteration: 731, loss (train): 0.1441, loss (valid): 0.3502,acc (train): 1.0000, acc (valid): 0.8125\n",
      "epoch: 40, iteration: 750, loss (train): 0.3945, loss (valid): 0.3506,acc (train): 1.0000, acc (valid): 0.8438\n",
      "epoch: 41, iteration: 768, loss (train): 0.6007, loss (valid): 0.3474,acc (train): 0.5000, acc (valid): 0.8438\n",
      "epoch: 42, iteration: 786, loss (train): 0.2801, loss (valid): 0.3409,acc (train): 1.0000, acc (valid): 0.8438\n",
      "epoch: 43, iteration: 804, loss (train): 0.6350, loss (valid): 0.3386,acc (train): 0.7500, acc (valid): 0.8438\n",
      "epoch: 44, iteration: 823, loss (train): 0.0644, loss (valid): 0.3346,acc (train): 1.0000, acc (valid): 0.8438\n",
      "epoch: 45, iteration: 841, loss (train): 0.2485, loss (valid): 0.3300,acc (train): 1.0000, acc (valid): 0.8438\n",
      "epoch: 46, iteration: 859, loss (train): 0.3760, loss (valid): 0.3476,acc (train): 0.7500, acc (valid): 0.9062\n",
      "epoch: 47, iteration: 877, loss (train): 0.2898, loss (valid): 0.3230,acc (train): 1.0000, acc (valid): 0.8125\n",
      "epoch: 48, iteration: 896, loss (train): 0.2695, loss (valid): 0.3281,acc (train): 1.0000, acc (valid): 0.9062\n",
      "epoch: 49, iteration: 914, loss (train): 0.2821, loss (valid): 0.3183,acc (train): 1.0000, acc (valid): 0.8125\n"
     ]
    }
   ],
   "source": [
    "gpu_id = 0\n",
    "n_batch = 64\n",
    "n_epoch = 50\n",
    "\n",
    "net.to_gpu(gpu_id)\n",
    "\n",
    "results_train, results_valid = {}, {}\n",
    "results_train['loss'], results_train['accuracy'] = [], []\n",
    "results_valid['loss'], results_valid['accuracy'] = [], []\n",
    "\n",
    "train_iter.reset()\n",
    "\n",
    "count = 1\n",
    "\n",
    "for epoch in range(n_epoch):\n",
    "    while True:\n",
    "        train_batch = train_iter.next()\n",
    "        \n",
    "        x_train, t_train = chainer.dataset.concat_examples(train_batch, gpu_id)\n",
    "        \n",
    "        y_train = net(x_train)\n",
    "        loss_train = F.softmax_cross_entropy(y_train, t_train)\n",
    "        acc_train = F.accuracy(y_train, t_train)\n",
    "        \n",
    "        net.cleargrads()\n",
    "        loss_train.backward()\n",
    "        \n",
    "        optimizer.update()\n",
    "        \n",
    "        count += 1\n",
    "        \n",
    "        if train_iter.is_new_epoch:\n",
    "            with chainer.using_config('train', False), chainer.using_config('enable_backprop', False):\n",
    "                x_valid, t_valid = chainer.dataset.concat_examples(valid, gpu_id)\n",
    "                y_valid = net(x_valid)\n",
    "                loss_valid = F.softmax_cross_entropy(y_valid, t_valid)\n",
    "                acc_valid = F.accuracy(y_valid, t_valid)\n",
    "                \n",
    "            loss_train.to_cpu()\n",
    "            loss_valid.to_cpu()\n",
    "            acc_train.to_cpu()\n",
    "            acc_valid.to_cpu()\n",
    "            \n",
    "            print('epoch: {}, iteration: {}, loss (train): {:.4f}, loss (valid): {:.4f},'\n",
    "                  'acc (train): {:.4f}, acc (valid): {:.4f}'.format(\n",
    "                epoch, count, loss_train.array.mean(), loss_valid.array.mean(),\n",
    "                  acc_train.array.mean(), acc_valid.array.mean()))\n",
    "            \n",
    "            results_train['loss'].append(loss_train.array)\n",
    "            results_train['accuracy'].append(acc_train.array)\n",
    "            results_valid['loss'].append(loss_valid.array)\n",
    "            results_valid['accuracy'].append(acc_valid.array)\n",
    "\n",
    "            break"
   ]
  },
  {
   "cell_type": "code",
   "execution_count": 9,
   "metadata": {},
   "outputs": [
    {
     "data": {
      "image/png": "[encoded data removed]",
      "text/plain": [
       "<Figure size 432x288 with 1 Axes>"
      ]
     },
     "metadata": {},
     "output_type": "display_data"
    },
    {
     "data": {
      "image/png": "[encoded data removed]",
      "text/plain": [
       "<Figure size 432x288 with 1 Axes>"
      ]
     },
     "metadata": {},
     "output_type": "display_data"
    }
   ],
   "source": [
    "%matplotlib inline\n",
    "import matplotlib.pyplot as plt\n",
    "\n",
    "plt.plot(results_train['loss'], label='train')\n",
    "plt.plot(results_valid['loss'], label='valid')\n",
    "plt.legend()\n",
    "plt.show()\n",
    "\n",
    "plt.plot(results_train['accuracy'], label='train')\n",
    "plt.plot(results_valid['accuracy'], label='valid')\n",
    "plt.legend()\n",
    "plt.show()"
   ]
  },
  {
   "cell_type": "code",
   "execution_count": 10,
   "metadata": {},
   "outputs": [
    {
     "name": "stdout",
     "output_type": "stream",
     "text": [
      "test loss: 0.3127\n",
      "test accuracy: 0.8889\n"
     ]
    }
   ],
   "source": [
    "x_test, t_test = chainer.dataset.concat_examples(test, device=gpu_id)\n",
    "with chainer.using_config('train', False), chainer.using_config('enable_backdrop', False):\n",
    "    y_test = net(x_test)\n",
    "    loss_test = F.softmax_cross_entropy(y_test, t_test)\n",
    "    acc_test = F.accuracy(y_test, t_test)\n",
    "    \n",
    "print('test loss: {:.4f}'.format(loss_test.array.get()))\n",
    "print('test accuracy: {:.4f}'.format(acc_test.array.get()))"
   ]
  },
  {
   "cell_type": "code",
   "execution_count": 13,
   "metadata": {},
   "outputs": [],
   "source": [
    "from chainer.serializers import save_npz\n",
    "\n",
    "net.to_cpu()\n",
    "\n",
    "save_npz('net_advanced.npz', net)"
   ]
  },
  {
   "cell_type": "code",
   "execution_count": 14,
   "metadata": {},
   "outputs": [
    {
     "name": "stdout",
     "output_type": "stream",
     "text": [
      "ChainerTutorial_Advanced.ipynb\n",
      "ChainerTutorial_Standard.ipynb\n",
      "README.md\n",
      "my_iris.net\n",
      "net_advanced.npz\n"
     ]
    }
   ],
   "source": [
    "!ls"
   ]
  },
  {
   "cell_type": "code",
   "execution_count": 15,
   "metadata": {},
   "outputs": [
    {
     "name": "stdout",
     "output_type": "stream",
     "text": [
      "l3/b :\t (3,)\n",
      "l3/W :\t (3, 3)\n",
      "l2/b :\t (3,)\n",
      "l2/W :\t (3, 3)\n",
      "l1/b :\t (3,)\n",
      "l1/W :\t (3, 4)\n"
     ]
    }
   ],
   "source": [
    "import numpy as np\n",
    "\n",
    "params = np.load('net_advanced.npz')\n",
    "\n",
    "for key, param in params.items():\n",
    "    print(key, ':\\t', param.shape)"
   ]
  }
 ],
 "metadata": {
  "kernelspec": {
   "display_name": "Python 3",
   "language": "python",
   "name": "python3"
  },
  "language_info": {
   "codemirror_mode": {
    "name": "ipython",
    "version": 3
   },
   "file_extension": ".py",
   "mimetype": "text/x-python",
   "name": "python",
   "nbconvert_exporter": "python",
   "pygments_lexer": "ipython3",
   "version": "3.6.5"
  }
 },
 "nbformat": 4,
 "nbformat_minor": 2
}
